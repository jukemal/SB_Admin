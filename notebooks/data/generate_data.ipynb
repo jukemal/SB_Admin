{
 "nbformat": 4,
 "nbformat_minor": 2,
 "metadata": {
  "language_info": {
   "name": "python",
   "codemirror_mode": {
    "name": "ipython",
    "version": 3
   },
   "version": "3.7.6-final"
  },
  "orig_nbformat": 2,
  "file_extension": ".py",
  "mimetype": "text/x-python",
  "name": "python",
  "npconvert_exporter": "python",
  "pygments_lexer": "ipython3",
  "version": 3,
  "kernelspec": {
   "name": "python38132bit643fc1b0591c4ccd958d93b35bc59e7b",
   "display_name": "Python 3.8.1 32-bit"
  }
 },
 "cells": [
  {
   "cell_type": "code",
   "execution_count": 1,
   "metadata": {},
   "outputs": [],
   "source": [
    "import pandas as pd\n",
    "import datetime\n",
    "import numpy as np\n",
    "\n",
    "np.random.seed(101)\n",
    "\n",
    "DAYS=300\n",
    "\n",
    "MIN_MEAL_COUNT=40\n",
    "MAX_MEAL_COUNT=60"
   ]
  },
  {
   "cell_type": "code",
   "execution_count": 2,
   "metadata": {},
   "outputs": [],
   "source": [
    "today=datetime.datetime.now()\n",
    "\n",
    "start_time=datetime.datetime(year=today.year,month=today.month,day=today.day,hour=8,minute=0)\n",
    "end_time=datetime.datetime(year=today.year,month=today.month,day=today.day,hour=20,minute=0)"
   ]
  },
  {
   "cell_type": "code",
   "execution_count": 3,
   "metadata": {
    "tags": [
     "outputPrepend",
     "outputPrepend",
     "outputPrepend"
    ]
   },
   "outputs": [],
   "source": [
    "dates=[]\n",
    "\n",
    "for _ in range(DAYS):\n",
    "    dates+=[start_time+datetime.timedelta(seconds=np.random.randint(0,high=(end_time-start_time).seconds)) for _ in range(np.random.randint(MIN_MEAL_COUNT,high=MAX_MEAL_COUNT))]\n",
    "    start_time=start_time+datetime.timedelta(-1)\n",
    "    end_time=end_time+datetime.timedelta(-1)\n",
    "\n",
    "dates.sort()"
   ]
  },
  {
   "cell_type": "code",
   "execution_count": 4,
   "metadata": {},
   "outputs": [
    {
     "output_type": "execute_result",
     "data": {
      "text/plain": "Empty DataFrame\nColumns: []\nIndex: [2019-11-22 08:02:36, 2019-11-22 08:24:18, 2019-11-22 08:24:44, 2019-11-22 08:47:39, 2019-11-22 08:49:34, 2019-11-22 08:54:12, 2019-11-22 09:04:42, 2019-11-22 09:29:10, 2019-11-22 09:41:47, 2019-11-22 10:16:17, 2019-11-22 10:31:10, 2019-11-22 10:32:44, 2019-11-22 10:49:33, 2019-11-22 10:54:55, 2019-11-22 11:13:21, 2019-11-22 11:38:20, 2019-11-22 12:05:35, 2019-11-22 12:10:53, 2019-11-22 12:19:47, 2019-11-22 12:21:32, 2019-11-22 12:29:22, 2019-11-22 12:46:08, 2019-11-22 12:48:36, 2019-11-22 13:32:53, 2019-11-22 14:02:21, 2019-11-22 14:28:29, 2019-11-22 14:44:07, 2019-11-22 14:44:42, 2019-11-22 14:58:59, 2019-11-22 15:14:43, 2019-11-22 15:19:01, 2019-11-22 15:30:15, 2019-11-22 16:14:47, 2019-11-22 16:26:02, 2019-11-22 16:44:18, 2019-11-22 17:50:12, 2019-11-22 17:57:46, 2019-11-22 18:09:52, 2019-11-22 18:16:31, 2019-11-22 18:31:14, 2019-11-22 18:50:24, 2019-11-22 18:54:19, 2019-11-22 19:38:28, 2019-11-22 19:57:55, 2019-11-23 08:12:05, 2019-11-23 08:32:36, 2019-11-23 08:35:12, 2019-11-23 08:40:30, 2019-11-23 09:53:08, 2019-11-23 09:57:23, 2019-11-23 10:16:47, 2019-11-23 11:10:08, 2019-11-23 11:56:03, 2019-11-23 11:59:08, 2019-11-23 12:03:58, 2019-11-23 12:13:09, 2019-11-23 12:15:52, 2019-11-23 12:35:08, 2019-11-23 12:36:05, 2019-11-23 12:37:47, 2019-11-23 12:56:17, 2019-11-23 13:26:10, 2019-11-23 13:36:57, 2019-11-23 13:50:03, 2019-11-23 14:25:56, 2019-11-23 14:44:57, 2019-11-23 14:56:35, 2019-11-23 14:57:52, 2019-11-23 15:09:26, 2019-11-23 15:37:10, 2019-11-23 15:47:12, 2019-11-23 16:07:44, 2019-11-23 16:11:38, 2019-11-23 16:22:25, 2019-11-23 16:32:35, 2019-11-23 16:32:58, 2019-11-23 16:46:04, 2019-11-23 16:58:15, 2019-11-23 17:29:36, 2019-11-23 17:32:41, 2019-11-23 17:40:33, 2019-11-23 17:42:40, 2019-11-23 18:10:09, 2019-11-23 18:17:50, 2019-11-23 18:29:23, 2019-11-23 18:32:57, 2019-11-23 18:36:40, 2019-11-23 18:48:22, 2019-11-23 19:18:36, 2019-11-23 19:45:10, 2019-11-24 08:14:22, 2019-11-24 08:33:07, 2019-11-24 08:33:26, 2019-11-24 08:50:41, 2019-11-24 08:51:26, 2019-11-24 09:06:55, 2019-11-24 09:09:10, 2019-11-24 09:09:30, 2019-11-24 09:43:40, 2019-11-24 09:52:17, ...]\n\n[14968 rows x 0 columns]",
      "text/html": "<div>\n<style scoped>\n    .dataframe tbody tr th:only-of-type {\n        vertical-align: middle;\n    }\n\n    .dataframe tbody tr th {\n        vertical-align: top;\n    }\n\n    .dataframe thead th {\n        text-align: right;\n    }\n</style>\n<table border=\"1\" class=\"dataframe\">\n  <thead>\n    <tr style=\"text-align: right;\">\n      <th></th>\n    </tr>\n    <tr>\n      <th>Order Date</th>\n    </tr>\n  </thead>\n  <tbody>\n    <tr>\n      <th>2019-11-22 08:02:36</th>\n    </tr>\n    <tr>\n      <th>2019-11-22 08:24:18</th>\n    </tr>\n    <tr>\n      <th>2019-11-22 08:24:44</th>\n    </tr>\n    <tr>\n      <th>2019-11-22 08:47:39</th>\n    </tr>\n    <tr>\n      <th>2019-11-22 08:49:34</th>\n    </tr>\n    <tr>\n      <th>...</th>\n    </tr>\n    <tr>\n      <th>2020-09-16 17:49:51</th>\n    </tr>\n    <tr>\n      <th>2020-09-16 18:02:04</th>\n    </tr>\n    <tr>\n      <th>2020-09-16 18:38:10</th>\n    </tr>\n    <tr>\n      <th>2020-09-16 18:42:06</th>\n    </tr>\n    <tr>\n      <th>2020-09-16 19:15:10</th>\n    </tr>\n  </tbody>\n</table>\n<p>14968 rows × 0 columns</p>\n</div>"
     },
     "metadata": {},
     "execution_count": 4
    }
   ],
   "source": [
    "df=pd.DataFrame(dates,columns=['Order Date'])\n",
    "df=df.set_index('Order Date')\n",
    "df"
   ]
  },
  {
   "cell_type": "code",
   "execution_count": 5,
   "metadata": {},
   "outputs": [
    {
     "output_type": "execute_result",
     "data": {
      "text/plain": "                     Order Number  Index               Item Name  Price  \\\nOrder Date                                                                \n2019-11-22 08:02:36             1      2      Rice and Curry Egg    190   \n2019-11-22 08:24:18             2     10        Chicken Biriyani    360   \n2019-11-22 08:24:44             3      3     Rice and Curry Fish    200   \n2019-11-22 08:47:39             4      3     Rice and Curry Fish    200   \n2019-11-22 08:49:34             5      4  Rice and Curry Chicken    200   \n...                           ...    ...                     ...    ...   \n2020-09-16 17:49:51         14964      8           Chicken Kottu    280   \n2020-09-16 18:02:04         14965      8           Chicken Kottu    280   \n2020-09-16 18:38:10         14966      3     Rice and Curry Fish    200   \n2020-09-16 18:42:06         14967      3     Rice and Curry Fish    200   \n2020-09-16 19:15:10         14968     10        Chicken Biriyani    360   \n\n                     Quantity  Total  \nOrder Date                            \n2019-11-22 08:02:36         2    380  \n2019-11-22 08:24:18         5   1800  \n2019-11-22 08:24:44         1    200  \n2019-11-22 08:47:39         4    800  \n2019-11-22 08:49:34         1    200  \n...                       ...    ...  \n2020-09-16 17:49:51         1    280  \n2020-09-16 18:02:04         1    280  \n2020-09-16 18:38:10         1    200  \n2020-09-16 18:42:06         1    200  \n2020-09-16 19:15:10         4   1440  \n\n[14968 rows x 6 columns]",
      "text/html": "<div>\n<style scoped>\n    .dataframe tbody tr th:only-of-type {\n        vertical-align: middle;\n    }\n\n    .dataframe tbody tr th {\n        vertical-align: top;\n    }\n\n    .dataframe thead th {\n        text-align: right;\n    }\n</style>\n<table border=\"1\" class=\"dataframe\">\n  <thead>\n    <tr style=\"text-align: right;\">\n      <th></th>\n      <th>Order Number</th>\n      <th>Index</th>\n      <th>Item Name</th>\n      <th>Price</th>\n      <th>Quantity</th>\n      <th>Total</th>\n    </tr>\n    <tr>\n      <th>Order Date</th>\n      <th></th>\n      <th></th>\n      <th></th>\n      <th></th>\n      <th></th>\n      <th></th>\n    </tr>\n  </thead>\n  <tbody>\n    <tr>\n      <th>2019-11-22 08:02:36</th>\n      <td>1</td>\n      <td>2</td>\n      <td>Rice and Curry Egg</td>\n      <td>190</td>\n      <td>2</td>\n      <td>380</td>\n    </tr>\n    <tr>\n      <th>2019-11-22 08:24:18</th>\n      <td>2</td>\n      <td>10</td>\n      <td>Chicken Biriyani</td>\n      <td>360</td>\n      <td>5</td>\n      <td>1800</td>\n    </tr>\n    <tr>\n      <th>2019-11-22 08:24:44</th>\n      <td>3</td>\n      <td>3</td>\n      <td>Rice and Curry Fish</td>\n      <td>200</td>\n      <td>1</td>\n      <td>200</td>\n    </tr>\n    <tr>\n      <th>2019-11-22 08:47:39</th>\n      <td>4</td>\n      <td>3</td>\n      <td>Rice and Curry Fish</td>\n      <td>200</td>\n      <td>4</td>\n      <td>800</td>\n    </tr>\n    <tr>\n      <th>2019-11-22 08:49:34</th>\n      <td>5</td>\n      <td>4</td>\n      <td>Rice and Curry Chicken</td>\n      <td>200</td>\n      <td>1</td>\n      <td>200</td>\n    </tr>\n    <tr>\n      <th>...</th>\n      <td>...</td>\n      <td>...</td>\n      <td>...</td>\n      <td>...</td>\n      <td>...</td>\n      <td>...</td>\n    </tr>\n    <tr>\n      <th>2020-09-16 17:49:51</th>\n      <td>14964</td>\n      <td>8</td>\n      <td>Chicken Kottu</td>\n      <td>280</td>\n      <td>1</td>\n      <td>280</td>\n    </tr>\n    <tr>\n      <th>2020-09-16 18:02:04</th>\n      <td>14965</td>\n      <td>8</td>\n      <td>Chicken Kottu</td>\n      <td>280</td>\n      <td>1</td>\n      <td>280</td>\n    </tr>\n    <tr>\n      <th>2020-09-16 18:38:10</th>\n      <td>14966</td>\n      <td>3</td>\n      <td>Rice and Curry Fish</td>\n      <td>200</td>\n      <td>1</td>\n      <td>200</td>\n    </tr>\n    <tr>\n      <th>2020-09-16 18:42:06</th>\n      <td>14967</td>\n      <td>3</td>\n      <td>Rice and Curry Fish</td>\n      <td>200</td>\n      <td>1</td>\n      <td>200</td>\n    </tr>\n    <tr>\n      <th>2020-09-16 19:15:10</th>\n      <td>14968</td>\n      <td>10</td>\n      <td>Chicken Biriyani</td>\n      <td>360</td>\n      <td>4</td>\n      <td>1440</td>\n    </tr>\n  </tbody>\n</table>\n<p>14968 rows × 6 columns</p>\n</div>"
     },
     "metadata": {},
     "execution_count": 5
    }
   ],
   "source": [
    "meals = {\n",
    "    1:{\n",
    "        \"name\":\"Rice and Curry Vegetable\",\n",
    "        \"price\":170,\n",
    "    },\n",
    "    2:{\n",
    "        \"name\":\"Rice and Curry Egg\",\n",
    "        \"price\":190,\n",
    "    },\n",
    "    3:{\n",
    "        \"name\":\"Rice and Curry Fish\",\n",
    "        \"price\":200,\n",
    "    },\n",
    "    4:{\n",
    "        \"name\":\"Rice and Curry Chicken\",\n",
    "        \"price\":200,\n",
    "    },\n",
    "    5:{\n",
    "        \"name\":\"Egg Rice\",\n",
    "        \"price\":200,\n",
    "    },\n",
    "    6:{\n",
    "        \"name\":\"Chicken Rice\",\n",
    "        \"price\":320,\n",
    "    },\n",
    "    7:{\n",
    "        \"name\":\"Egg Kottu\",\n",
    "        \"price\":200,\n",
    "    },\n",
    "    8:{\n",
    "        \"name\":\"Chicken Kottu\",\n",
    "        \"price\":280,\n",
    "    },\n",
    "    9:{\n",
    "        \"name\":\"Egg Biriyani\",\n",
    "        \"price\":250,\n",
    "    },\n",
    "    10:{\n",
    "        \"name\":\"Chicken Biriyani\",\n",
    "        \"price\":360,\n",
    "    },\n",
    "}\n",
    "\n",
    "meal_weights = [0.04,0.07,0.09,0.2,0.1,0.15,0.1,0.15,0.04,0.06]\n",
    "\n",
    "quantities=[1,2,3,4,5]\n",
    "\n",
    "quantity_weights=[0.5,0.2,0.15,0.1,0.05]\n",
    "\n",
    "name=[]\n",
    "price=[]\n",
    "\n",
    "index=np.random.choice([k for k,v in meals.items()],len(df), p=meal_weights)\n",
    "\n",
    "for i in index:\n",
    "    meal=meals[i]\n",
    "    name.append(meal[\"name\"])\n",
    "    price.append(meal[\"price\"])\n",
    "\n",
    "quantity=np.random.choice(quantities,len(df),p=quantity_weights)\n",
    "\n",
    "df[\"Order Number\"]=[i+1 for i in range(len(df))]\n",
    "df[\"Index\"]=index\n",
    "df[\"Item Name\"]=name\n",
    "df[\"Price\"]=price\n",
    "df[\"Quantity\"]=quantity\n",
    "df[\"Total\"]=df[\"Price\"]*df[\"Quantity\"]\n",
    "\n",
    "df"
   ]
  },
  {
   "cell_type": "code",
   "execution_count": 6,
   "metadata": {},
   "outputs": [
    {
     "output_type": "execute_result",
     "data": {
      "text/plain": "'Rice and Curry Vegetable'"
     },
     "metadata": {},
     "execution_count": 6
    }
   ],
   "source": [
    "meals[1]['name']"
   ]
  },
  {
   "cell_type": "code",
   "execution_count": 7,
   "metadata": {},
   "outputs": [
    {
     "output_type": "stream",
     "name": "stdout",
     "text": "<class 'pandas.core.frame.DataFrame'>\nDatetimeIndex: 14968 entries, 2019-11-22 08:02:36 to 2020-09-16 19:15:10\nData columns (total 6 columns):\n #   Column        Non-Null Count  Dtype \n---  ------        --------------  ----- \n 0   Order Number  14968 non-null  int64 \n 1   Index         14968 non-null  int32 \n 2   Item Name     14968 non-null  object\n 3   Price         14968 non-null  int64 \n 4   Quantity      14968 non-null  int32 \n 5   Total         14968 non-null  int64 \ndtypes: int32(2), int64(3), object(1)\nmemory usage: 643.2+ KB\n"
    }
   ],
   "source": [
    "df.info()"
   ]
  },
  {
   "cell_type": "code",
   "execution_count": 9,
   "metadata": {},
   "outputs": [],
   "source": [
    "df.to_csv(\"order_data.csv\")"
   ]
  }
 ]
}